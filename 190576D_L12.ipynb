{
  "nbformat": 4,
  "nbformat_minor": 0,
  "metadata": {
    "colab": {
      "provenance": []
    },
    "kernelspec": {
      "name": "python3",
      "display_name": "Python 3"
    },
    "language_info": {
      "name": "python"
    }
  },
  "cells": [
    {
      "cell_type": "code",
      "execution_count": null,
      "metadata": {
        "id": "BciAeFgUBXYy"
      },
      "outputs": [],
      "source": [
        "import pandas as pd\n",
        "import numpy as np\n",
        "\n",
        "labels = [\"label_1\", \"label_2\", \"label_3\", \"label_4\"]\n",
        "empty_label = \"label_2\"\n",
        "features = [f'feature_{i}' for i in range(1,769)]"
      ]
    },
    {
      "cell_type": "code",
      "source": [
        "train_df = pd.read_csv('train.csv')\n",
        "train_df.head()"
      ],
      "metadata": {
        "id": "vhjbd3oCTSto",
        "colab": {
          "base_uri": "https://localhost:8080/",
          "height": 256
        },
        "outputId": "bd0797e7-d712-40b7-e0a4-5901eddd4282"
      },
      "execution_count": null,
      "outputs": [
        {
          "output_type": "execute_result",
          "data": {
            "text/plain": [
              "   feature_1  feature_2  feature_3  feature_4  feature_5  feature_6  \\\n",
              "0   0.031138   0.079892   0.157382  -0.014636  -0.051778  -0.021332   \n",
              "1   0.113040   0.175731   0.217741  -0.196254  -0.010129  -0.030586   \n",
              "2   0.048570   0.091281   0.160776  -0.150937   0.020115   0.044117   \n",
              "3   0.039212   0.118388   0.173831  -0.096659  -0.008702   0.061298   \n",
              "4   0.056019   0.170639   0.157917  -0.228605  -0.065965  -0.088732   \n",
              "\n",
              "   feature_7  feature_8  feature_9  feature_10  ...  feature_763  feature_764  \\\n",
              "0  -0.073593  -0.005386  -0.212557    0.099683  ...    -0.085248    -0.096007   \n",
              "1   0.067114  -0.072412  -0.239192    0.104741  ...    -0.090283    -0.053885   \n",
              "2  -0.050092  -0.045661  -0.155332    0.117206  ...    -0.021524    -0.008411   \n",
              "3   0.008974  -0.003277  -0.065046    0.095480  ...    -0.071936    -0.023120   \n",
              "4  -0.082243  -0.080568  -0.341500    0.142430  ...    -0.155621    -0.079447   \n",
              "\n",
              "   feature_765  feature_766  feature_767  feature_768  label_1  label_2  \\\n",
              "0    -0.000766     0.021399    -0.041432     0.094806       45      NaN   \n",
              "1    -0.010967     0.062209    -0.122958     0.192949       45      NaN   \n",
              "2    -0.006248     0.031468    -0.056915     0.154731       45      NaN   \n",
              "3    -0.007812     0.057600    -0.121892     0.072796       45      NaN   \n",
              "4     0.015316     0.127726    -0.151966     0.169634       45      NaN   \n",
              "\n",
              "   label_3  label_4  \n",
              "0        1        6  \n",
              "1        1        6  \n",
              "2        1        6  \n",
              "3        1        6  \n",
              "4        1        6  \n",
              "\n",
              "[5 rows x 772 columns]"
            ],
            "text/html": [
              "\n",
              "  <div id=\"df-9b1e93df-a90a-4fac-ae24-c57f220d522f\" class=\"colab-df-container\">\n",
              "    <div>\n",
              "<style scoped>\n",
              "    .dataframe tbody tr th:only-of-type {\n",
              "        vertical-align: middle;\n",
              "    }\n",
              "\n",
              "    .dataframe tbody tr th {\n",
              "        vertical-align: top;\n",
              "    }\n",
              "\n",
              "    .dataframe thead th {\n",
              "        text-align: right;\n",
              "    }\n",
              "</style>\n",
              "<table border=\"1\" class=\"dataframe\">\n",
              "  <thead>\n",
              "    <tr style=\"text-align: right;\">\n",
              "      <th></th>\n",
              "      <th>feature_1</th>\n",
              "      <th>feature_2</th>\n",
              "      <th>feature_3</th>\n",
              "      <th>feature_4</th>\n",
              "      <th>feature_5</th>\n",
              "      <th>feature_6</th>\n",
              "      <th>feature_7</th>\n",
              "      <th>feature_8</th>\n",
              "      <th>feature_9</th>\n",
              "      <th>feature_10</th>\n",
              "      <th>...</th>\n",
              "      <th>feature_763</th>\n",
              "      <th>feature_764</th>\n",
              "      <th>feature_765</th>\n",
              "      <th>feature_766</th>\n",
              "      <th>feature_767</th>\n",
              "      <th>feature_768</th>\n",
              "      <th>label_1</th>\n",
              "      <th>label_2</th>\n",
              "      <th>label_3</th>\n",
              "      <th>label_4</th>\n",
              "    </tr>\n",
              "  </thead>\n",
              "  <tbody>\n",
              "    <tr>\n",
              "      <th>0</th>\n",
              "      <td>0.031138</td>\n",
              "      <td>0.079892</td>\n",
              "      <td>0.157382</td>\n",
              "      <td>-0.014636</td>\n",
              "      <td>-0.051778</td>\n",
              "      <td>-0.021332</td>\n",
              "      <td>-0.073593</td>\n",
              "      <td>-0.005386</td>\n",
              "      <td>-0.212557</td>\n",
              "      <td>0.099683</td>\n",
              "      <td>...</td>\n",
              "      <td>-0.085248</td>\n",
              "      <td>-0.096007</td>\n",
              "      <td>-0.000766</td>\n",
              "      <td>0.021399</td>\n",
              "      <td>-0.041432</td>\n",
              "      <td>0.094806</td>\n",
              "      <td>45</td>\n",
              "      <td>NaN</td>\n",
              "      <td>1</td>\n",
              "      <td>6</td>\n",
              "    </tr>\n",
              "    <tr>\n",
              "      <th>1</th>\n",
              "      <td>0.113040</td>\n",
              "      <td>0.175731</td>\n",
              "      <td>0.217741</td>\n",
              "      <td>-0.196254</td>\n",
              "      <td>-0.010129</td>\n",
              "      <td>-0.030586</td>\n",
              "      <td>0.067114</td>\n",
              "      <td>-0.072412</td>\n",
              "      <td>-0.239192</td>\n",
              "      <td>0.104741</td>\n",
              "      <td>...</td>\n",
              "      <td>-0.090283</td>\n",
              "      <td>-0.053885</td>\n",
              "      <td>-0.010967</td>\n",
              "      <td>0.062209</td>\n",
              "      <td>-0.122958</td>\n",
              "      <td>0.192949</td>\n",
              "      <td>45</td>\n",
              "      <td>NaN</td>\n",
              "      <td>1</td>\n",
              "      <td>6</td>\n",
              "    </tr>\n",
              "    <tr>\n",
              "      <th>2</th>\n",
              "      <td>0.048570</td>\n",
              "      <td>0.091281</td>\n",
              "      <td>0.160776</td>\n",
              "      <td>-0.150937</td>\n",
              "      <td>0.020115</td>\n",
              "      <td>0.044117</td>\n",
              "      <td>-0.050092</td>\n",
              "      <td>-0.045661</td>\n",
              "      <td>-0.155332</td>\n",
              "      <td>0.117206</td>\n",
              "      <td>...</td>\n",
              "      <td>-0.021524</td>\n",
              "      <td>-0.008411</td>\n",
              "      <td>-0.006248</td>\n",
              "      <td>0.031468</td>\n",
              "      <td>-0.056915</td>\n",
              "      <td>0.154731</td>\n",
              "      <td>45</td>\n",
              "      <td>NaN</td>\n",
              "      <td>1</td>\n",
              "      <td>6</td>\n",
              "    </tr>\n",
              "    <tr>\n",
              "      <th>3</th>\n",
              "      <td>0.039212</td>\n",
              "      <td>0.118388</td>\n",
              "      <td>0.173831</td>\n",
              "      <td>-0.096659</td>\n",
              "      <td>-0.008702</td>\n",
              "      <td>0.061298</td>\n",
              "      <td>0.008974</td>\n",
              "      <td>-0.003277</td>\n",
              "      <td>-0.065046</td>\n",
              "      <td>0.095480</td>\n",
              "      <td>...</td>\n",
              "      <td>-0.071936</td>\n",
              "      <td>-0.023120</td>\n",
              "      <td>-0.007812</td>\n",
              "      <td>0.057600</td>\n",
              "      <td>-0.121892</td>\n",
              "      <td>0.072796</td>\n",
              "      <td>45</td>\n",
              "      <td>NaN</td>\n",
              "      <td>1</td>\n",
              "      <td>6</td>\n",
              "    </tr>\n",
              "    <tr>\n",
              "      <th>4</th>\n",
              "      <td>0.056019</td>\n",
              "      <td>0.170639</td>\n",
              "      <td>0.157917</td>\n",
              "      <td>-0.228605</td>\n",
              "      <td>-0.065965</td>\n",
              "      <td>-0.088732</td>\n",
              "      <td>-0.082243</td>\n",
              "      <td>-0.080568</td>\n",
              "      <td>-0.341500</td>\n",
              "      <td>0.142430</td>\n",
              "      <td>...</td>\n",
              "      <td>-0.155621</td>\n",
              "      <td>-0.079447</td>\n",
              "      <td>0.015316</td>\n",
              "      <td>0.127726</td>\n",
              "      <td>-0.151966</td>\n",
              "      <td>0.169634</td>\n",
              "      <td>45</td>\n",
              "      <td>NaN</td>\n",
              "      <td>1</td>\n",
              "      <td>6</td>\n",
              "    </tr>\n",
              "  </tbody>\n",
              "</table>\n",
              "<p>5 rows × 772 columns</p>\n",
              "</div>\n",
              "    <div class=\"colab-df-buttons\">\n",
              "\n",
              "  <div class=\"colab-df-container\">\n",
              "    <button class=\"colab-df-convert\" onclick=\"convertToInteractive('df-9b1e93df-a90a-4fac-ae24-c57f220d522f')\"\n",
              "            title=\"Convert this dataframe to an interactive table.\"\n",
              "            style=\"display:none;\">\n",
              "\n",
              "  <svg xmlns=\"http://www.w3.org/2000/svg\" height=\"24px\" viewBox=\"0 -960 960 960\">\n",
              "    <path d=\"M120-120v-720h720v720H120Zm60-500h600v-160H180v160Zm220 220h160v-160H400v160Zm0 220h160v-160H400v160ZM180-400h160v-160H180v160Zm440 0h160v-160H620v160ZM180-180h160v-160H180v160Zm440 0h160v-160H620v160Z\"/>\n",
              "  </svg>\n",
              "    </button>\n",
              "\n",
              "  <style>\n",
              "    .colab-df-container {\n",
              "      display:flex;\n",
              "      gap: 12px;\n",
              "    }\n",
              "\n",
              "    .colab-df-convert {\n",
              "      background-color: #E8F0FE;\n",
              "      border: none;\n",
              "      border-radius: 50%;\n",
              "      cursor: pointer;\n",
              "      display: none;\n",
              "      fill: #1967D2;\n",
              "      height: 32px;\n",
              "      padding: 0 0 0 0;\n",
              "      width: 32px;\n",
              "    }\n",
              "\n",
              "    .colab-df-convert:hover {\n",
              "      background-color: #E2EBFA;\n",
              "      box-shadow: 0px 1px 2px rgba(60, 64, 67, 0.3), 0px 1px 3px 1px rgba(60, 64, 67, 0.15);\n",
              "      fill: #174EA6;\n",
              "    }\n",
              "\n",
              "    .colab-df-buttons div {\n",
              "      margin-bottom: 4px;\n",
              "    }\n",
              "\n",
              "    [theme=dark] .colab-df-convert {\n",
              "      background-color: #3B4455;\n",
              "      fill: #D2E3FC;\n",
              "    }\n",
              "\n",
              "    [theme=dark] .colab-df-convert:hover {\n",
              "      background-color: #434B5C;\n",
              "      box-shadow: 0px 1px 3px 1px rgba(0, 0, 0, 0.15);\n",
              "      filter: drop-shadow(0px 1px 2px rgba(0, 0, 0, 0.3));\n",
              "      fill: #FFFFFF;\n",
              "    }\n",
              "  </style>\n",
              "\n",
              "    <script>\n",
              "      const buttonEl =\n",
              "        document.querySelector('#df-9b1e93df-a90a-4fac-ae24-c57f220d522f button.colab-df-convert');\n",
              "      buttonEl.style.display =\n",
              "        google.colab.kernel.accessAllowed ? 'block' : 'none';\n",
              "\n",
              "      async function convertToInteractive(key) {\n",
              "        const element = document.querySelector('#df-9b1e93df-a90a-4fac-ae24-c57f220d522f');\n",
              "        const dataTable =\n",
              "          await google.colab.kernel.invokeFunction('convertToInteractive',\n",
              "                                                    [key], {});\n",
              "        if (!dataTable) return;\n",
              "\n",
              "        const docLinkHtml = 'Like what you see? Visit the ' +\n",
              "          '<a target=\"_blank\" href=https://colab.research.google.com/notebooks/data_table.ipynb>data table notebook</a>'\n",
              "          + ' to learn more about interactive tables.';\n",
              "        element.innerHTML = '';\n",
              "        dataTable['output_type'] = 'display_data';\n",
              "        await google.colab.output.renderOutput(dataTable, element);\n",
              "        const docLink = document.createElement('div');\n",
              "        docLink.innerHTML = docLinkHtml;\n",
              "        element.appendChild(docLink);\n",
              "      }\n",
              "    </script>\n",
              "  </div>\n",
              "\n",
              "\n",
              "<div id=\"df-66e207a8-a9df-4e4a-8434-74624fb54892\">\n",
              "  <button class=\"colab-df-quickchart\" onclick=\"quickchart('df-66e207a8-a9df-4e4a-8434-74624fb54892')\"\n",
              "            title=\"Suggest charts.\"\n",
              "            style=\"display:none;\">\n",
              "\n",
              "<svg xmlns=\"http://www.w3.org/2000/svg\" height=\"24px\"viewBox=\"0 0 24 24\"\n",
              "     width=\"24px\">\n",
              "    <g>\n",
              "        <path d=\"M19 3H5c-1.1 0-2 .9-2 2v14c0 1.1.9 2 2 2h14c1.1 0 2-.9 2-2V5c0-1.1-.9-2-2-2zM9 17H7v-7h2v7zm4 0h-2V7h2v10zm4 0h-2v-4h2v4z\"/>\n",
              "    </g>\n",
              "</svg>\n",
              "  </button>\n",
              "\n",
              "<style>\n",
              "  .colab-df-quickchart {\n",
              "      --bg-color: #E8F0FE;\n",
              "      --fill-color: #1967D2;\n",
              "      --hover-bg-color: #E2EBFA;\n",
              "      --hover-fill-color: #174EA6;\n",
              "      --disabled-fill-color: #AAA;\n",
              "      --disabled-bg-color: #DDD;\n",
              "  }\n",
              "\n",
              "  [theme=dark] .colab-df-quickchart {\n",
              "      --bg-color: #3B4455;\n",
              "      --fill-color: #D2E3FC;\n",
              "      --hover-bg-color: #434B5C;\n",
              "      --hover-fill-color: #FFFFFF;\n",
              "      --disabled-bg-color: #3B4455;\n",
              "      --disabled-fill-color: #666;\n",
              "  }\n",
              "\n",
              "  .colab-df-quickchart {\n",
              "    background-color: var(--bg-color);\n",
              "    border: none;\n",
              "    border-radius: 50%;\n",
              "    cursor: pointer;\n",
              "    display: none;\n",
              "    fill: var(--fill-color);\n",
              "    height: 32px;\n",
              "    padding: 0;\n",
              "    width: 32px;\n",
              "  }\n",
              "\n",
              "  .colab-df-quickchart:hover {\n",
              "    background-color: var(--hover-bg-color);\n",
              "    box-shadow: 0 1px 2px rgba(60, 64, 67, 0.3), 0 1px 3px 1px rgba(60, 64, 67, 0.15);\n",
              "    fill: var(--button-hover-fill-color);\n",
              "  }\n",
              "\n",
              "  .colab-df-quickchart-complete:disabled,\n",
              "  .colab-df-quickchart-complete:disabled:hover {\n",
              "    background-color: var(--disabled-bg-color);\n",
              "    fill: var(--disabled-fill-color);\n",
              "    box-shadow: none;\n",
              "  }\n",
              "\n",
              "  .colab-df-spinner {\n",
              "    border: 2px solid var(--fill-color);\n",
              "    border-color: transparent;\n",
              "    border-bottom-color: var(--fill-color);\n",
              "    animation:\n",
              "      spin 1s steps(1) infinite;\n",
              "  }\n",
              "\n",
              "  @keyframes spin {\n",
              "    0% {\n",
              "      border-color: transparent;\n",
              "      border-bottom-color: var(--fill-color);\n",
              "      border-left-color: var(--fill-color);\n",
              "    }\n",
              "    20% {\n",
              "      border-color: transparent;\n",
              "      border-left-color: var(--fill-color);\n",
              "      border-top-color: var(--fill-color);\n",
              "    }\n",
              "    30% {\n",
              "      border-color: transparent;\n",
              "      border-left-color: var(--fill-color);\n",
              "      border-top-color: var(--fill-color);\n",
              "      border-right-color: var(--fill-color);\n",
              "    }\n",
              "    40% {\n",
              "      border-color: transparent;\n",
              "      border-right-color: var(--fill-color);\n",
              "      border-top-color: var(--fill-color);\n",
              "    }\n",
              "    60% {\n",
              "      border-color: transparent;\n",
              "      border-right-color: var(--fill-color);\n",
              "    }\n",
              "    80% {\n",
              "      border-color: transparent;\n",
              "      border-right-color: var(--fill-color);\n",
              "      border-bottom-color: var(--fill-color);\n",
              "    }\n",
              "    90% {\n",
              "      border-color: transparent;\n",
              "      border-bottom-color: var(--fill-color);\n",
              "    }\n",
              "  }\n",
              "</style>\n",
              "\n",
              "  <script>\n",
              "    async function quickchart(key) {\n",
              "      const quickchartButtonEl =\n",
              "        document.querySelector('#' + key + ' button');\n",
              "      quickchartButtonEl.disabled = true;  // To prevent multiple clicks.\n",
              "      quickchartButtonEl.classList.add('colab-df-spinner');\n",
              "      try {\n",
              "        const charts = await google.colab.kernel.invokeFunction(\n",
              "            'suggestCharts', [key], {});\n",
              "      } catch (error) {\n",
              "        console.error('Error during call to suggestCharts:', error);\n",
              "      }\n",
              "      quickchartButtonEl.classList.remove('colab-df-spinner');\n",
              "      quickchartButtonEl.classList.add('colab-df-quickchart-complete');\n",
              "    }\n",
              "    (() => {\n",
              "      let quickchartButtonEl =\n",
              "        document.querySelector('#df-66e207a8-a9df-4e4a-8434-74624fb54892 button');\n",
              "      quickchartButtonEl.style.display =\n",
              "        google.colab.kernel.accessAllowed ? 'block' : 'none';\n",
              "    })();\n",
              "  </script>\n",
              "</div>\n",
              "    </div>\n",
              "  </div>\n"
            ]
          },
          "metadata": {},
          "execution_count": 15
        }
      ]
    },
    {
      "cell_type": "code",
      "source": [
        "valid_df = pd.read_csv('valid.csv')\n",
        "valid_df.head()"
      ],
      "metadata": {
        "id": "rhPGHWBRRb2t",
        "colab": {
          "base_uri": "https://localhost:8080/",
          "height": 256
        },
        "outputId": "b007a074-af62-4aa3-bee3-85abe28ade03"
      },
      "execution_count": null,
      "outputs": [
        {
          "output_type": "execute_result",
          "data": {
            "text/plain": [
              "   feature_1  feature_2  feature_3  feature_4  feature_5  feature_6  \\\n",
              "0   0.153978   0.503276   0.022196   0.226684   0.466179   0.154995   \n",
              "1   0.056877   0.261613   0.050610   0.097744   0.322375  -0.011609   \n",
              "2   0.225439   0.350977  -0.295782   0.280168   0.705114   0.020545   \n",
              "3   0.288556   0.513905  -0.205246   0.279660   0.469121   0.068339   \n",
              "4   0.165176   0.312492  -0.217504   0.259960   0.568979  -0.093011   \n",
              "\n",
              "   feature_7  feature_8  feature_9  feature_10  ...  feature_763  feature_764  \\\n",
              "0   0.195452  -0.288972  -0.297589   -0.008409  ...    -0.503624    -0.056849   \n",
              "1   0.201331  -0.194763  -0.194228   -0.094267  ...    -0.442110     0.008424   \n",
              "2   0.390878  -0.322853   0.071575    0.013803  ...    -0.380124    -0.089572   \n",
              "3   0.131205  -0.338951  -0.270848    0.007799  ...    -0.529678    -0.093194   \n",
              "4   0.257977  -0.277132  -0.172113   -0.025929  ...    -0.504997    -0.108256   \n",
              "\n",
              "   feature_765  feature_766  feature_767  feature_768  label_1  label_2  \\\n",
              "0    -0.117077     0.168611     0.373346     0.037188       45      NaN   \n",
              "1    -0.067920     0.165600     0.333104    -0.270913       45      NaN   \n",
              "2    -0.023344     0.194312     0.269537    -0.292029       45      NaN   \n",
              "3    -0.148418     0.405543     0.438906    -0.055119       45      NaN   \n",
              "4     0.036867     0.267815     0.245041     0.117444       45      NaN   \n",
              "\n",
              "   label_3  label_4  \n",
              "0        1        6  \n",
              "1        1        6  \n",
              "2        1        6  \n",
              "3        1        6  \n",
              "4        1        6  \n",
              "\n",
              "[5 rows x 772 columns]"
            ],
            "text/html": [
              "\n",
              "  <div id=\"df-fe68f59d-5cdc-4905-9054-32ebb0552e68\" class=\"colab-df-container\">\n",
              "    <div>\n",
              "<style scoped>\n",
              "    .dataframe tbody tr th:only-of-type {\n",
              "        vertical-align: middle;\n",
              "    }\n",
              "\n",
              "    .dataframe tbody tr th {\n",
              "        vertical-align: top;\n",
              "    }\n",
              "\n",
              "    .dataframe thead th {\n",
              "        text-align: right;\n",
              "    }\n",
              "</style>\n",
              "<table border=\"1\" class=\"dataframe\">\n",
              "  <thead>\n",
              "    <tr style=\"text-align: right;\">\n",
              "      <th></th>\n",
              "      <th>feature_1</th>\n",
              "      <th>feature_2</th>\n",
              "      <th>feature_3</th>\n",
              "      <th>feature_4</th>\n",
              "      <th>feature_5</th>\n",
              "      <th>feature_6</th>\n",
              "      <th>feature_7</th>\n",
              "      <th>feature_8</th>\n",
              "      <th>feature_9</th>\n",
              "      <th>feature_10</th>\n",
              "      <th>...</th>\n",
              "      <th>feature_763</th>\n",
              "      <th>feature_764</th>\n",
              "      <th>feature_765</th>\n",
              "      <th>feature_766</th>\n",
              "      <th>feature_767</th>\n",
              "      <th>feature_768</th>\n",
              "      <th>label_1</th>\n",
              "      <th>label_2</th>\n",
              "      <th>label_3</th>\n",
              "      <th>label_4</th>\n",
              "    </tr>\n",
              "  </thead>\n",
              "  <tbody>\n",
              "    <tr>\n",
              "      <th>0</th>\n",
              "      <td>0.153978</td>\n",
              "      <td>0.503276</td>\n",
              "      <td>0.022196</td>\n",
              "      <td>0.226684</td>\n",
              "      <td>0.466179</td>\n",
              "      <td>0.154995</td>\n",
              "      <td>0.195452</td>\n",
              "      <td>-0.288972</td>\n",
              "      <td>-0.297589</td>\n",
              "      <td>-0.008409</td>\n",
              "      <td>...</td>\n",
              "      <td>-0.503624</td>\n",
              "      <td>-0.056849</td>\n",
              "      <td>-0.117077</td>\n",
              "      <td>0.168611</td>\n",
              "      <td>0.373346</td>\n",
              "      <td>0.037188</td>\n",
              "      <td>45</td>\n",
              "      <td>NaN</td>\n",
              "      <td>1</td>\n",
              "      <td>6</td>\n",
              "    </tr>\n",
              "    <tr>\n",
              "      <th>1</th>\n",
              "      <td>0.056877</td>\n",
              "      <td>0.261613</td>\n",
              "      <td>0.050610</td>\n",
              "      <td>0.097744</td>\n",
              "      <td>0.322375</td>\n",
              "      <td>-0.011609</td>\n",
              "      <td>0.201331</td>\n",
              "      <td>-0.194763</td>\n",
              "      <td>-0.194228</td>\n",
              "      <td>-0.094267</td>\n",
              "      <td>...</td>\n",
              "      <td>-0.442110</td>\n",
              "      <td>0.008424</td>\n",
              "      <td>-0.067920</td>\n",
              "      <td>0.165600</td>\n",
              "      <td>0.333104</td>\n",
              "      <td>-0.270913</td>\n",
              "      <td>45</td>\n",
              "      <td>NaN</td>\n",
              "      <td>1</td>\n",
              "      <td>6</td>\n",
              "    </tr>\n",
              "    <tr>\n",
              "      <th>2</th>\n",
              "      <td>0.225439</td>\n",
              "      <td>0.350977</td>\n",
              "      <td>-0.295782</td>\n",
              "      <td>0.280168</td>\n",
              "      <td>0.705114</td>\n",
              "      <td>0.020545</td>\n",
              "      <td>0.390878</td>\n",
              "      <td>-0.322853</td>\n",
              "      <td>0.071575</td>\n",
              "      <td>0.013803</td>\n",
              "      <td>...</td>\n",
              "      <td>-0.380124</td>\n",
              "      <td>-0.089572</td>\n",
              "      <td>-0.023344</td>\n",
              "      <td>0.194312</td>\n",
              "      <td>0.269537</td>\n",
              "      <td>-0.292029</td>\n",
              "      <td>45</td>\n",
              "      <td>NaN</td>\n",
              "      <td>1</td>\n",
              "      <td>6</td>\n",
              "    </tr>\n",
              "    <tr>\n",
              "      <th>3</th>\n",
              "      <td>0.288556</td>\n",
              "      <td>0.513905</td>\n",
              "      <td>-0.205246</td>\n",
              "      <td>0.279660</td>\n",
              "      <td>0.469121</td>\n",
              "      <td>0.068339</td>\n",
              "      <td>0.131205</td>\n",
              "      <td>-0.338951</td>\n",
              "      <td>-0.270848</td>\n",
              "      <td>0.007799</td>\n",
              "      <td>...</td>\n",
              "      <td>-0.529678</td>\n",
              "      <td>-0.093194</td>\n",
              "      <td>-0.148418</td>\n",
              "      <td>0.405543</td>\n",
              "      <td>0.438906</td>\n",
              "      <td>-0.055119</td>\n",
              "      <td>45</td>\n",
              "      <td>NaN</td>\n",
              "      <td>1</td>\n",
              "      <td>6</td>\n",
              "    </tr>\n",
              "    <tr>\n",
              "      <th>4</th>\n",
              "      <td>0.165176</td>\n",
              "      <td>0.312492</td>\n",
              "      <td>-0.217504</td>\n",
              "      <td>0.259960</td>\n",
              "      <td>0.568979</td>\n",
              "      <td>-0.093011</td>\n",
              "      <td>0.257977</td>\n",
              "      <td>-0.277132</td>\n",
              "      <td>-0.172113</td>\n",
              "      <td>-0.025929</td>\n",
              "      <td>...</td>\n",
              "      <td>-0.504997</td>\n",
              "      <td>-0.108256</td>\n",
              "      <td>0.036867</td>\n",
              "      <td>0.267815</td>\n",
              "      <td>0.245041</td>\n",
              "      <td>0.117444</td>\n",
              "      <td>45</td>\n",
              "      <td>NaN</td>\n",
              "      <td>1</td>\n",
              "      <td>6</td>\n",
              "    </tr>\n",
              "  </tbody>\n",
              "</table>\n",
              "<p>5 rows × 772 columns</p>\n",
              "</div>\n",
              "    <div class=\"colab-df-buttons\">\n",
              "\n",
              "  <div class=\"colab-df-container\">\n",
              "    <button class=\"colab-df-convert\" onclick=\"convertToInteractive('df-fe68f59d-5cdc-4905-9054-32ebb0552e68')\"\n",
              "            title=\"Convert this dataframe to an interactive table.\"\n",
              "            style=\"display:none;\">\n",
              "\n",
              "  <svg xmlns=\"http://www.w3.org/2000/svg\" height=\"24px\" viewBox=\"0 -960 960 960\">\n",
              "    <path d=\"M120-120v-720h720v720H120Zm60-500h600v-160H180v160Zm220 220h160v-160H400v160Zm0 220h160v-160H400v160ZM180-400h160v-160H180v160Zm440 0h160v-160H620v160ZM180-180h160v-160H180v160Zm440 0h160v-160H620v160Z\"/>\n",
              "  </svg>\n",
              "    </button>\n",
              "\n",
              "  <style>\n",
              "    .colab-df-container {\n",
              "      display:flex;\n",
              "      gap: 12px;\n",
              "    }\n",
              "\n",
              "    .colab-df-convert {\n",
              "      background-color: #E8F0FE;\n",
              "      border: none;\n",
              "      border-radius: 50%;\n",
              "      cursor: pointer;\n",
              "      display: none;\n",
              "      fill: #1967D2;\n",
              "      height: 32px;\n",
              "      padding: 0 0 0 0;\n",
              "      width: 32px;\n",
              "    }\n",
              "\n",
              "    .colab-df-convert:hover {\n",
              "      background-color: #E2EBFA;\n",
              "      box-shadow: 0px 1px 2px rgba(60, 64, 67, 0.3), 0px 1px 3px 1px rgba(60, 64, 67, 0.15);\n",
              "      fill: #174EA6;\n",
              "    }\n",
              "\n",
              "    .colab-df-buttons div {\n",
              "      margin-bottom: 4px;\n",
              "    }\n",
              "\n",
              "    [theme=dark] .colab-df-convert {\n",
              "      background-color: #3B4455;\n",
              "      fill: #D2E3FC;\n",
              "    }\n",
              "\n",
              "    [theme=dark] .colab-df-convert:hover {\n",
              "      background-color: #434B5C;\n",
              "      box-shadow: 0px 1px 3px 1px rgba(0, 0, 0, 0.15);\n",
              "      filter: drop-shadow(0px 1px 2px rgba(0, 0, 0, 0.3));\n",
              "      fill: #FFFFFF;\n",
              "    }\n",
              "  </style>\n",
              "\n",
              "    <script>\n",
              "      const buttonEl =\n",
              "        document.querySelector('#df-fe68f59d-5cdc-4905-9054-32ebb0552e68 button.colab-df-convert');\n",
              "      buttonEl.style.display =\n",
              "        google.colab.kernel.accessAllowed ? 'block' : 'none';\n",
              "\n",
              "      async function convertToInteractive(key) {\n",
              "        const element = document.querySelector('#df-fe68f59d-5cdc-4905-9054-32ebb0552e68');\n",
              "        const dataTable =\n",
              "          await google.colab.kernel.invokeFunction('convertToInteractive',\n",
              "                                                    [key], {});\n",
              "        if (!dataTable) return;\n",
              "\n",
              "        const docLinkHtml = 'Like what you see? Visit the ' +\n",
              "          '<a target=\"_blank\" href=https://colab.research.google.com/notebooks/data_table.ipynb>data table notebook</a>'\n",
              "          + ' to learn more about interactive tables.';\n",
              "        element.innerHTML = '';\n",
              "        dataTable['output_type'] = 'display_data';\n",
              "        await google.colab.output.renderOutput(dataTable, element);\n",
              "        const docLink = document.createElement('div');\n",
              "        docLink.innerHTML = docLinkHtml;\n",
              "        element.appendChild(docLink);\n",
              "      }\n",
              "    </script>\n",
              "  </div>\n",
              "\n",
              "\n",
              "<div id=\"df-3f125744-1174-4d70-bbaf-fa2dbbb08d62\">\n",
              "  <button class=\"colab-df-quickchart\" onclick=\"quickchart('df-3f125744-1174-4d70-bbaf-fa2dbbb08d62')\"\n",
              "            title=\"Suggest charts.\"\n",
              "            style=\"display:none;\">\n",
              "\n",
              "<svg xmlns=\"http://www.w3.org/2000/svg\" height=\"24px\"viewBox=\"0 0 24 24\"\n",
              "     width=\"24px\">\n",
              "    <g>\n",
              "        <path d=\"M19 3H5c-1.1 0-2 .9-2 2v14c0 1.1.9 2 2 2h14c1.1 0 2-.9 2-2V5c0-1.1-.9-2-2-2zM9 17H7v-7h2v7zm4 0h-2V7h2v10zm4 0h-2v-4h2v4z\"/>\n",
              "    </g>\n",
              "</svg>\n",
              "  </button>\n",
              "\n",
              "<style>\n",
              "  .colab-df-quickchart {\n",
              "      --bg-color: #E8F0FE;\n",
              "      --fill-color: #1967D2;\n",
              "      --hover-bg-color: #E2EBFA;\n",
              "      --hover-fill-color: #174EA6;\n",
              "      --disabled-fill-color: #AAA;\n",
              "      --disabled-bg-color: #DDD;\n",
              "  }\n",
              "\n",
              "  [theme=dark] .colab-df-quickchart {\n",
              "      --bg-color: #3B4455;\n",
              "      --fill-color: #D2E3FC;\n",
              "      --hover-bg-color: #434B5C;\n",
              "      --hover-fill-color: #FFFFFF;\n",
              "      --disabled-bg-color: #3B4455;\n",
              "      --disabled-fill-color: #666;\n",
              "  }\n",
              "\n",
              "  .colab-df-quickchart {\n",
              "    background-color: var(--bg-color);\n",
              "    border: none;\n",
              "    border-radius: 50%;\n",
              "    cursor: pointer;\n",
              "    display: none;\n",
              "    fill: var(--fill-color);\n",
              "    height: 32px;\n",
              "    padding: 0;\n",
              "    width: 32px;\n",
              "  }\n",
              "\n",
              "  .colab-df-quickchart:hover {\n",
              "    background-color: var(--hover-bg-color);\n",
              "    box-shadow: 0 1px 2px rgba(60, 64, 67, 0.3), 0 1px 3px 1px rgba(60, 64, 67, 0.15);\n",
              "    fill: var(--button-hover-fill-color);\n",
              "  }\n",
              "\n",
              "  .colab-df-quickchart-complete:disabled,\n",
              "  .colab-df-quickchart-complete:disabled:hover {\n",
              "    background-color: var(--disabled-bg-color);\n",
              "    fill: var(--disabled-fill-color);\n",
              "    box-shadow: none;\n",
              "  }\n",
              "\n",
              "  .colab-df-spinner {\n",
              "    border: 2px solid var(--fill-color);\n",
              "    border-color: transparent;\n",
              "    border-bottom-color: var(--fill-color);\n",
              "    animation:\n",
              "      spin 1s steps(1) infinite;\n",
              "  }\n",
              "\n",
              "  @keyframes spin {\n",
              "    0% {\n",
              "      border-color: transparent;\n",
              "      border-bottom-color: var(--fill-color);\n",
              "      border-left-color: var(--fill-color);\n",
              "    }\n",
              "    20% {\n",
              "      border-color: transparent;\n",
              "      border-left-color: var(--fill-color);\n",
              "      border-top-color: var(--fill-color);\n",
              "    }\n",
              "    30% {\n",
              "      border-color: transparent;\n",
              "      border-left-color: var(--fill-color);\n",
              "      border-top-color: var(--fill-color);\n",
              "      border-right-color: var(--fill-color);\n",
              "    }\n",
              "    40% {\n",
              "      border-color: transparent;\n",
              "      border-right-color: var(--fill-color);\n",
              "      border-top-color: var(--fill-color);\n",
              "    }\n",
              "    60% {\n",
              "      border-color: transparent;\n",
              "      border-right-color: var(--fill-color);\n",
              "    }\n",
              "    80% {\n",
              "      border-color: transparent;\n",
              "      border-right-color: var(--fill-color);\n",
              "      border-bottom-color: var(--fill-color);\n",
              "    }\n",
              "    90% {\n",
              "      border-color: transparent;\n",
              "      border-bottom-color: var(--fill-color);\n",
              "    }\n",
              "  }\n",
              "</style>\n",
              "\n",
              "  <script>\n",
              "    async function quickchart(key) {\n",
              "      const quickchartButtonEl =\n",
              "        document.querySelector('#' + key + ' button');\n",
              "      quickchartButtonEl.disabled = true;  // To prevent multiple clicks.\n",
              "      quickchartButtonEl.classList.add('colab-df-spinner');\n",
              "      try {\n",
              "        const charts = await google.colab.kernel.invokeFunction(\n",
              "            'suggestCharts', [key], {});\n",
              "      } catch (error) {\n",
              "        console.error('Error during call to suggestCharts:', error);\n",
              "      }\n",
              "      quickchartButtonEl.classList.remove('colab-df-spinner');\n",
              "      quickchartButtonEl.classList.add('colab-df-quickchart-complete');\n",
              "    }\n",
              "    (() => {\n",
              "      let quickchartButtonEl =\n",
              "        document.querySelector('#df-3f125744-1174-4d70-bbaf-fa2dbbb08d62 button');\n",
              "      quickchartButtonEl.style.display =\n",
              "        google.colab.kernel.accessAllowed ? 'block' : 'none';\n",
              "    })();\n",
              "  </script>\n",
              "</div>\n",
              "    </div>\n",
              "  </div>\n"
            ]
          },
          "metadata": {},
          "execution_count": 16
        }
      ]
    },
    {
      "cell_type": "code",
      "source": [
        "test_df = pd.read_csv('test.csv')\n",
        "test_df.head()"
      ],
      "metadata": {
        "id": "PDjPGRNsRerM",
        "colab": {
          "base_uri": "https://localhost:8080/",
          "height": 256
        },
        "outputId": "9089dfdb-9b47-4870-c8da-321ef5b0387c"
      },
      "execution_count": null,
      "outputs": [
        {
          "output_type": "execute_result",
          "data": {
            "text/plain": [
              "   ID  feature_1  feature_2  feature_3  feature_4  feature_5  feature_6  \\\n",
              "0   1   0.124623   0.196628   0.257004  -0.156045  -0.054916   0.006071   \n",
              "1   2   0.109655   0.170158   0.227644  -0.127088  -0.044476  -0.046852   \n",
              "2   3   0.014854   0.030051   0.115092  -0.017179   0.002720  -0.011692   \n",
              "3   4   0.196893   0.113314   0.352175  -0.108499  -0.064472  -0.073239   \n",
              "4   5   0.033004   0.013373   0.124001  -0.016143   0.010120   0.010635   \n",
              "\n",
              "   feature_7  feature_8  feature_9  ...  feature_759  feature_760  \\\n",
              "0  -0.035149  -0.092019  -0.196302  ...    -0.221466     0.140292   \n",
              "1  -0.090026  -0.061321  -0.227288  ...    -0.204930     0.110203   \n",
              "2  -0.078855  -0.042991  -0.096283  ...    -0.032937     0.075821   \n",
              "3  -0.086402   0.008671  -0.342217  ...    -0.255167     0.096579   \n",
              "4  -0.055789  -0.036282  -0.059422  ...    -0.035814     0.093764   \n",
              "\n",
              "   feature_761  feature_762  feature_763  feature_764  feature_765  \\\n",
              "0     0.123622    -0.175572    -0.107030    -0.087621    -0.026501   \n",
              "1     0.085665    -0.286787    -0.113195    -0.057312    -0.055680   \n",
              "2     0.030987    -0.149850    -0.003155    -0.010207    -0.001427   \n",
              "3     0.069413    -0.215386    -0.075168    -0.035071    -0.023375   \n",
              "4     0.027321    -0.116009     0.010096    -0.042293     0.005347   \n",
              "\n",
              "   feature_766  feature_767  feature_768  \n",
              "0     0.139337    -0.083030     0.059507  \n",
              "1     0.143939    -0.045760     0.106113  \n",
              "2     0.000934    -0.017069     0.048123  \n",
              "3     0.067768    -0.181530     0.174444  \n",
              "4     0.007722    -0.007731     0.058799  \n",
              "\n",
              "[5 rows x 769 columns]"
            ],
            "text/html": [
              "\n",
              "  <div id=\"df-d6153d05-16eb-4e95-a0d7-d104f21fcab1\" class=\"colab-df-container\">\n",
              "    <div>\n",
              "<style scoped>\n",
              "    .dataframe tbody tr th:only-of-type {\n",
              "        vertical-align: middle;\n",
              "    }\n",
              "\n",
              "    .dataframe tbody tr th {\n",
              "        vertical-align: top;\n",
              "    }\n",
              "\n",
              "    .dataframe thead th {\n",
              "        text-align: right;\n",
              "    }\n",
              "</style>\n",
              "<table border=\"1\" class=\"dataframe\">\n",
              "  <thead>\n",
              "    <tr style=\"text-align: right;\">\n",
              "      <th></th>\n",
              "      <th>ID</th>\n",
              "      <th>feature_1</th>\n",
              "      <th>feature_2</th>\n",
              "      <th>feature_3</th>\n",
              "      <th>feature_4</th>\n",
              "      <th>feature_5</th>\n",
              "      <th>feature_6</th>\n",
              "      <th>feature_7</th>\n",
              "      <th>feature_8</th>\n",
              "      <th>feature_9</th>\n",
              "      <th>...</th>\n",
              "      <th>feature_759</th>\n",
              "      <th>feature_760</th>\n",
              "      <th>feature_761</th>\n",
              "      <th>feature_762</th>\n",
              "      <th>feature_763</th>\n",
              "      <th>feature_764</th>\n",
              "      <th>feature_765</th>\n",
              "      <th>feature_766</th>\n",
              "      <th>feature_767</th>\n",
              "      <th>feature_768</th>\n",
              "    </tr>\n",
              "  </thead>\n",
              "  <tbody>\n",
              "    <tr>\n",
              "      <th>0</th>\n",
              "      <td>1</td>\n",
              "      <td>0.124623</td>\n",
              "      <td>0.196628</td>\n",
              "      <td>0.257004</td>\n",
              "      <td>-0.156045</td>\n",
              "      <td>-0.054916</td>\n",
              "      <td>0.006071</td>\n",
              "      <td>-0.035149</td>\n",
              "      <td>-0.092019</td>\n",
              "      <td>-0.196302</td>\n",
              "      <td>...</td>\n",
              "      <td>-0.221466</td>\n",
              "      <td>0.140292</td>\n",
              "      <td>0.123622</td>\n",
              "      <td>-0.175572</td>\n",
              "      <td>-0.107030</td>\n",
              "      <td>-0.087621</td>\n",
              "      <td>-0.026501</td>\n",
              "      <td>0.139337</td>\n",
              "      <td>-0.083030</td>\n",
              "      <td>0.059507</td>\n",
              "    </tr>\n",
              "    <tr>\n",
              "      <th>1</th>\n",
              "      <td>2</td>\n",
              "      <td>0.109655</td>\n",
              "      <td>0.170158</td>\n",
              "      <td>0.227644</td>\n",
              "      <td>-0.127088</td>\n",
              "      <td>-0.044476</td>\n",
              "      <td>-0.046852</td>\n",
              "      <td>-0.090026</td>\n",
              "      <td>-0.061321</td>\n",
              "      <td>-0.227288</td>\n",
              "      <td>...</td>\n",
              "      <td>-0.204930</td>\n",
              "      <td>0.110203</td>\n",
              "      <td>0.085665</td>\n",
              "      <td>-0.286787</td>\n",
              "      <td>-0.113195</td>\n",
              "      <td>-0.057312</td>\n",
              "      <td>-0.055680</td>\n",
              "      <td>0.143939</td>\n",
              "      <td>-0.045760</td>\n",
              "      <td>0.106113</td>\n",
              "    </tr>\n",
              "    <tr>\n",
              "      <th>2</th>\n",
              "      <td>3</td>\n",
              "      <td>0.014854</td>\n",
              "      <td>0.030051</td>\n",
              "      <td>0.115092</td>\n",
              "      <td>-0.017179</td>\n",
              "      <td>0.002720</td>\n",
              "      <td>-0.011692</td>\n",
              "      <td>-0.078855</td>\n",
              "      <td>-0.042991</td>\n",
              "      <td>-0.096283</td>\n",
              "      <td>...</td>\n",
              "      <td>-0.032937</td>\n",
              "      <td>0.075821</td>\n",
              "      <td>0.030987</td>\n",
              "      <td>-0.149850</td>\n",
              "      <td>-0.003155</td>\n",
              "      <td>-0.010207</td>\n",
              "      <td>-0.001427</td>\n",
              "      <td>0.000934</td>\n",
              "      <td>-0.017069</td>\n",
              "      <td>0.048123</td>\n",
              "    </tr>\n",
              "    <tr>\n",
              "      <th>3</th>\n",
              "      <td>4</td>\n",
              "      <td>0.196893</td>\n",
              "      <td>0.113314</td>\n",
              "      <td>0.352175</td>\n",
              "      <td>-0.108499</td>\n",
              "      <td>-0.064472</td>\n",
              "      <td>-0.073239</td>\n",
              "      <td>-0.086402</td>\n",
              "      <td>0.008671</td>\n",
              "      <td>-0.342217</td>\n",
              "      <td>...</td>\n",
              "      <td>-0.255167</td>\n",
              "      <td>0.096579</td>\n",
              "      <td>0.069413</td>\n",
              "      <td>-0.215386</td>\n",
              "      <td>-0.075168</td>\n",
              "      <td>-0.035071</td>\n",
              "      <td>-0.023375</td>\n",
              "      <td>0.067768</td>\n",
              "      <td>-0.181530</td>\n",
              "      <td>0.174444</td>\n",
              "    </tr>\n",
              "    <tr>\n",
              "      <th>4</th>\n",
              "      <td>5</td>\n",
              "      <td>0.033004</td>\n",
              "      <td>0.013373</td>\n",
              "      <td>0.124001</td>\n",
              "      <td>-0.016143</td>\n",
              "      <td>0.010120</td>\n",
              "      <td>0.010635</td>\n",
              "      <td>-0.055789</td>\n",
              "      <td>-0.036282</td>\n",
              "      <td>-0.059422</td>\n",
              "      <td>...</td>\n",
              "      <td>-0.035814</td>\n",
              "      <td>0.093764</td>\n",
              "      <td>0.027321</td>\n",
              "      <td>-0.116009</td>\n",
              "      <td>0.010096</td>\n",
              "      <td>-0.042293</td>\n",
              "      <td>0.005347</td>\n",
              "      <td>0.007722</td>\n",
              "      <td>-0.007731</td>\n",
              "      <td>0.058799</td>\n",
              "    </tr>\n",
              "  </tbody>\n",
              "</table>\n",
              "<p>5 rows × 769 columns</p>\n",
              "</div>\n",
              "    <div class=\"colab-df-buttons\">\n",
              "\n",
              "  <div class=\"colab-df-container\">\n",
              "    <button class=\"colab-df-convert\" onclick=\"convertToInteractive('df-d6153d05-16eb-4e95-a0d7-d104f21fcab1')\"\n",
              "            title=\"Convert this dataframe to an interactive table.\"\n",
              "            style=\"display:none;\">\n",
              "\n",
              "  <svg xmlns=\"http://www.w3.org/2000/svg\" height=\"24px\" viewBox=\"0 -960 960 960\">\n",
              "    <path d=\"M120-120v-720h720v720H120Zm60-500h600v-160H180v160Zm220 220h160v-160H400v160Zm0 220h160v-160H400v160ZM180-400h160v-160H180v160Zm440 0h160v-160H620v160ZM180-180h160v-160H180v160Zm440 0h160v-160H620v160Z\"/>\n",
              "  </svg>\n",
              "    </button>\n",
              "\n",
              "  <style>\n",
              "    .colab-df-container {\n",
              "      display:flex;\n",
              "      gap: 12px;\n",
              "    }\n",
              "\n",
              "    .colab-df-convert {\n",
              "      background-color: #E8F0FE;\n",
              "      border: none;\n",
              "      border-radius: 50%;\n",
              "      cursor: pointer;\n",
              "      display: none;\n",
              "      fill: #1967D2;\n",
              "      height: 32px;\n",
              "      padding: 0 0 0 0;\n",
              "      width: 32px;\n",
              "    }\n",
              "\n",
              "    .colab-df-convert:hover {\n",
              "      background-color: #E2EBFA;\n",
              "      box-shadow: 0px 1px 2px rgba(60, 64, 67, 0.3), 0px 1px 3px 1px rgba(60, 64, 67, 0.15);\n",
              "      fill: #174EA6;\n",
              "    }\n",
              "\n",
              "    .colab-df-buttons div {\n",
              "      margin-bottom: 4px;\n",
              "    }\n",
              "\n",
              "    [theme=dark] .colab-df-convert {\n",
              "      background-color: #3B4455;\n",
              "      fill: #D2E3FC;\n",
              "    }\n",
              "\n",
              "    [theme=dark] .colab-df-convert:hover {\n",
              "      background-color: #434B5C;\n",
              "      box-shadow: 0px 1px 3px 1px rgba(0, 0, 0, 0.15);\n",
              "      filter: drop-shadow(0px 1px 2px rgba(0, 0, 0, 0.3));\n",
              "      fill: #FFFFFF;\n",
              "    }\n",
              "  </style>\n",
              "\n",
              "    <script>\n",
              "      const buttonEl =\n",
              "        document.querySelector('#df-d6153d05-16eb-4e95-a0d7-d104f21fcab1 button.colab-df-convert');\n",
              "      buttonEl.style.display =\n",
              "        google.colab.kernel.accessAllowed ? 'block' : 'none';\n",
              "\n",
              "      async function convertToInteractive(key) {\n",
              "        const element = document.querySelector('#df-d6153d05-16eb-4e95-a0d7-d104f21fcab1');\n",
              "        const dataTable =\n",
              "          await google.colab.kernel.invokeFunction('convertToInteractive',\n",
              "                                                    [key], {});\n",
              "        if (!dataTable) return;\n",
              "\n",
              "        const docLinkHtml = 'Like what you see? Visit the ' +\n",
              "          '<a target=\"_blank\" href=https://colab.research.google.com/notebooks/data_table.ipynb>data table notebook</a>'\n",
              "          + ' to learn more about interactive tables.';\n",
              "        element.innerHTML = '';\n",
              "        dataTable['output_type'] = 'display_data';\n",
              "        await google.colab.output.renderOutput(dataTable, element);\n",
              "        const docLink = document.createElement('div');\n",
              "        docLink.innerHTML = docLinkHtml;\n",
              "        element.appendChild(docLink);\n",
              "      }\n",
              "    </script>\n",
              "  </div>\n",
              "\n",
              "\n",
              "<div id=\"df-80fdfdff-66b5-4b82-8810-c600e0ee5a67\">\n",
              "  <button class=\"colab-df-quickchart\" onclick=\"quickchart('df-80fdfdff-66b5-4b82-8810-c600e0ee5a67')\"\n",
              "            title=\"Suggest charts.\"\n",
              "            style=\"display:none;\">\n",
              "\n",
              "<svg xmlns=\"http://www.w3.org/2000/svg\" height=\"24px\"viewBox=\"0 0 24 24\"\n",
              "     width=\"24px\">\n",
              "    <g>\n",
              "        <path d=\"M19 3H5c-1.1 0-2 .9-2 2v14c0 1.1.9 2 2 2h14c1.1 0 2-.9 2-2V5c0-1.1-.9-2-2-2zM9 17H7v-7h2v7zm4 0h-2V7h2v10zm4 0h-2v-4h2v4z\"/>\n",
              "    </g>\n",
              "</svg>\n",
              "  </button>\n",
              "\n",
              "<style>\n",
              "  .colab-df-quickchart {\n",
              "      --bg-color: #E8F0FE;\n",
              "      --fill-color: #1967D2;\n",
              "      --hover-bg-color: #E2EBFA;\n",
              "      --hover-fill-color: #174EA6;\n",
              "      --disabled-fill-color: #AAA;\n",
              "      --disabled-bg-color: #DDD;\n",
              "  }\n",
              "\n",
              "  [theme=dark] .colab-df-quickchart {\n",
              "      --bg-color: #3B4455;\n",
              "      --fill-color: #D2E3FC;\n",
              "      --hover-bg-color: #434B5C;\n",
              "      --hover-fill-color: #FFFFFF;\n",
              "      --disabled-bg-color: #3B4455;\n",
              "      --disabled-fill-color: #666;\n",
              "  }\n",
              "\n",
              "  .colab-df-quickchart {\n",
              "    background-color: var(--bg-color);\n",
              "    border: none;\n",
              "    border-radius: 50%;\n",
              "    cursor: pointer;\n",
              "    display: none;\n",
              "    fill: var(--fill-color);\n",
              "    height: 32px;\n",
              "    padding: 0;\n",
              "    width: 32px;\n",
              "  }\n",
              "\n",
              "  .colab-df-quickchart:hover {\n",
              "    background-color: var(--hover-bg-color);\n",
              "    box-shadow: 0 1px 2px rgba(60, 64, 67, 0.3), 0 1px 3px 1px rgba(60, 64, 67, 0.15);\n",
              "    fill: var(--button-hover-fill-color);\n",
              "  }\n",
              "\n",
              "  .colab-df-quickchart-complete:disabled,\n",
              "  .colab-df-quickchart-complete:disabled:hover {\n",
              "    background-color: var(--disabled-bg-color);\n",
              "    fill: var(--disabled-fill-color);\n",
              "    box-shadow: none;\n",
              "  }\n",
              "\n",
              "  .colab-df-spinner {\n",
              "    border: 2px solid var(--fill-color);\n",
              "    border-color: transparent;\n",
              "    border-bottom-color: var(--fill-color);\n",
              "    animation:\n",
              "      spin 1s steps(1) infinite;\n",
              "  }\n",
              "\n",
              "  @keyframes spin {\n",
              "    0% {\n",
              "      border-color: transparent;\n",
              "      border-bottom-color: var(--fill-color);\n",
              "      border-left-color: var(--fill-color);\n",
              "    }\n",
              "    20% {\n",
              "      border-color: transparent;\n",
              "      border-left-color: var(--fill-color);\n",
              "      border-top-color: var(--fill-color);\n",
              "    }\n",
              "    30% {\n",
              "      border-color: transparent;\n",
              "      border-left-color: var(--fill-color);\n",
              "      border-top-color: var(--fill-color);\n",
              "      border-right-color: var(--fill-color);\n",
              "    }\n",
              "    40% {\n",
              "      border-color: transparent;\n",
              "      border-right-color: var(--fill-color);\n",
              "      border-top-color: var(--fill-color);\n",
              "    }\n",
              "    60% {\n",
              "      border-color: transparent;\n",
              "      border-right-color: var(--fill-color);\n",
              "    }\n",
              "    80% {\n",
              "      border-color: transparent;\n",
              "      border-right-color: var(--fill-color);\n",
              "      border-bottom-color: var(--fill-color);\n",
              "    }\n",
              "    90% {\n",
              "      border-color: transparent;\n",
              "      border-bottom-color: var(--fill-color);\n",
              "    }\n",
              "  }\n",
              "</style>\n",
              "\n",
              "  <script>\n",
              "    async function quickchart(key) {\n",
              "      const quickchartButtonEl =\n",
              "        document.querySelector('#' + key + ' button');\n",
              "      quickchartButtonEl.disabled = true;  // To prevent multiple clicks.\n",
              "      quickchartButtonEl.classList.add('colab-df-spinner');\n",
              "      try {\n",
              "        const charts = await google.colab.kernel.invokeFunction(\n",
              "            'suggestCharts', [key], {});\n",
              "      } catch (error) {\n",
              "        console.error('Error during call to suggestCharts:', error);\n",
              "      }\n",
              "      quickchartButtonEl.classList.remove('colab-df-spinner');\n",
              "      quickchartButtonEl.classList.add('colab-df-quickchart-complete');\n",
              "    }\n",
              "    (() => {\n",
              "      let quickchartButtonEl =\n",
              "        document.querySelector('#df-80fdfdff-66b5-4b82-8810-c600e0ee5a67 button');\n",
              "      quickchartButtonEl.style.display =\n",
              "        google.colab.kernel.accessAllowed ? 'block' : 'none';\n",
              "    })();\n",
              "  </script>\n",
              "</div>\n",
              "    </div>\n",
              "  </div>\n"
            ]
          },
          "metadata": {},
          "execution_count": 17
        }
      ]
    },
    {
      "cell_type": "code",
      "source": [
        "print(\"Checking for null values\")\n",
        "print(\"Label 1 ;\")\n",
        "print(train_df.shape)\n",
        "print(train_df[train_df[\"label_1\"].notna()].shape)\n",
        "\n",
        "print(valid_df.shape)\n",
        "print(valid_df[valid_df[\"label_1\"].notna()].shape)\n",
        "\n",
        "print(\"Label 2 ;\")\n",
        "print(train_df.shape)\n",
        "print(train_df[train_df[\"label_2\"].notna()].shape)\n",
        "\n",
        "print(valid_df.shape)\n",
        "print(valid_df[valid_df[\"label_2\"].notna()].shape)\n",
        "\n",
        "print(\"Label 3 ;\")\n",
        "print(train_df.shape)\n",
        "print(train_df[train_df[\"label_3\"].notna()].shape)\n",
        "\n",
        "print(valid_df.shape)\n",
        "print(valid_df[valid_df[\"label_3\"].notna()].shape)\n",
        "\n",
        "print(\"Label 4 ;\")\n",
        "print(train_df.shape)\n",
        "print(train_df[train_df[\"label_4\"].notna()].shape)\n",
        "\n",
        "print(valid_df.shape)\n",
        "print(valid_df[valid_df[\"label_4\"].notna()].shape)"
      ],
      "metadata": {
        "id": "xKmsVVdERlrT",
        "colab": {
          "base_uri": "https://localhost:8080/"
        },
        "outputId": "6c07ec6d-2ded-4400-a76b-2b2e8908bedb"
      },
      "execution_count": null,
      "outputs": [
        {
          "output_type": "stream",
          "name": "stdout",
          "text": [
            "Checking for null values\n",
            "Label 1 ;\n",
            "(28520, 772)\n",
            "(28520, 772)\n",
            "(750, 772)\n",
            "(750, 772)\n",
            "Label 2 ;\n",
            "(28520, 772)\n",
            "(28040, 772)\n",
            "(750, 772)\n",
            "(736, 772)\n",
            "Label 3 ;\n",
            "(28520, 772)\n",
            "(28520, 772)\n",
            "(750, 772)\n",
            "(750, 772)\n",
            "Label 4 ;\n",
            "(28520, 772)\n",
            "(28520, 772)\n",
            "(750, 772)\n",
            "(750, 772)\n"
          ]
        }
      ]
    },
    {
      "cell_type": "markdown",
      "source": [
        "This shows that there are 480 and 6 empty values for laabel 2 in train and valid datasets respectively. This will be handled via deletion."
      ],
      "metadata": {
        "id": "6Xt8i8Q-2GGV"
      }
    },
    {
      "cell_type": "code",
      "source": [
        "train_df['label_4'].value_counts()"
      ],
      "metadata": {
        "colab": {
          "base_uri": "https://localhost:8080/"
        },
        "id": "Xzy61Hn72X2O",
        "outputId": "5135e191-fbc1-4a9b-e104-376dc9867edd"
      },
      "execution_count": null,
      "outputs": [
        {
          "output_type": "execute_result",
          "data": {
            "text/plain": [
              "6     19938\n",
              "2      1449\n",
              "0       955\n",
              "12      954\n",
              "7       938\n",
              "13      482\n",
              "1       481\n",
              "11      480\n",
              "10      480\n",
              "3       479\n",
              "5       478\n",
              "9       472\n",
              "4       469\n",
              "8       465\n",
              "Name: label_4, dtype: int64"
            ]
          },
          "metadata": {},
          "execution_count": 19
        }
      ]
    },
    {
      "cell_type": "markdown",
      "source": [
        "Above result proves that the distribution of values in label 4 is uneven. It will be handled in the classifier."
      ],
      "metadata": {
        "id": "TolV1BG62Rok"
      }
    },
    {
      "cell_type": "markdown",
      "source": [
        "**Data preprocessing**"
      ],
      "metadata": {
        "id": "lOy1YMIiSeun"
      }
    },
    {
      "cell_type": "code",
      "source": [
        "x_train = train_df.copy()\n",
        "x_train.drop(labels, axis=1, inplace=True)\n",
        "y_train_1 = train_df['label_1']\n",
        "y_train_3 = train_df['label_3']\n",
        "y_train_4 = train_df['label_4']\n",
        "\n",
        "x_train_2 = train_df[train_df['label_2'].notna()]                                              # Dropping NaN values for label 2\n",
        "x_train_2.drop(labels, axis=1, inplace=True)\n",
        "y_train_2 = train_df[train_df['label_2'].notna()]['label_2']\n",
        "\n",
        "x_valid = valid_df.copy()\n",
        "x_valid.drop(labels, axis=1, inplace=True)\n",
        "y_valid_1 = valid_df['label_1']\n",
        "y_valid_3 = valid_df['label_3']\n",
        "y_valid_4 = valid_df['label_4']\n",
        "\n",
        "x_valid_2 = valid_df[valid_df['label_2'].notna()]                                             # Dropping NaN values for label 2\n",
        "x_valid_2.drop(labels, axis=1, inplace=True)\n",
        "y_valid_2 = valid_df[valid_df['label_2'].notna()]['label_2']\n",
        "\n",
        "x_test = test_df.copy()\n",
        "x_test.drop(['ID'], axis=1, inplace=True)"
      ],
      "metadata": {
        "id": "BaR9seoIS3Zl",
        "colab": {
          "base_uri": "https://localhost:8080/"
        },
        "outputId": "d1c3a262-02de-42ee-b580-bb82dadcdee0"
      },
      "execution_count": null,
      "outputs": [
        {
          "output_type": "stream",
          "name": "stderr",
          "text": [
            "<ipython-input-20-a34243a88c2e>:8: SettingWithCopyWarning: \n",
            "A value is trying to be set on a copy of a slice from a DataFrame\n",
            "\n",
            "See the caveats in the documentation: https://pandas.pydata.org/pandas-docs/stable/user_guide/indexing.html#returning-a-view-versus-a-copy\n",
            "  x_train_2.drop(labels, axis=1, inplace=True)\n",
            "<ipython-input-20-a34243a88c2e>:18: SettingWithCopyWarning: \n",
            "A value is trying to be set on a copy of a slice from a DataFrame\n",
            "\n",
            "See the caveats in the documentation: https://pandas.pydata.org/pandas-docs/stable/user_guide/indexing.html#returning-a-view-versus-a-copy\n",
            "  x_valid_2.drop(labels, axis=1, inplace=True)\n"
          ]
        }
      ]
    },
    {
      "cell_type": "markdown",
      "source": [
        "Feature scaling"
      ],
      "metadata": {
        "id": "cT3E4Zc8SsEc"
      }
    },
    {
      "cell_type": "code",
      "source": [
        "from sklearn.preprocessing import RobustScaler\n",
        "\n",
        "scaler = RobustScaler()\n",
        "x_tr_sc = scaler.fit_transform(x_train)\n",
        "x_vl_sc = scaler.fit_transform(x_valid)\n",
        "x_test_sc = scaler.fit_transform(x_test)\n",
        "\n",
        "x_tr_sc_2 = scaler.fit_transform(x_train_2)\n",
        "x_vl_sc_2 = scaler.fit_transform(x_valid_2)"
      ],
      "metadata": {
        "id": "8YWeFeNWStyU"
      },
      "execution_count": null,
      "outputs": []
    },
    {
      "cell_type": "markdown",
      "source": [
        "**Label 1**"
      ],
      "metadata": {
        "id": "z5dVCOUH3oV1"
      }
    },
    {
      "cell_type": "markdown",
      "source": [
        "SVM model"
      ],
      "metadata": {
        "id": "DnY0GYXzS47X"
      }
    },
    {
      "cell_type": "code",
      "source": [
        "from sklearn import svm\n",
        "from sklearn.metrics import accuracy_score\n",
        "\n",
        "svmc = svm.SVC(kernel=\"linear\")\n",
        "svmc.fit(x_tr_sc,y_train_1)\n",
        "\n",
        "y_pred_svmc = svmc.predict(x_vl_sc)\n",
        "\n",
        "acc_vl = accuracy_score(y_valid_1, y_pred_svmc)\n",
        "acc_vl"
      ],
      "metadata": {
        "id": "oRdOjp9lS4Cr",
        "colab": {
          "base_uri": "https://localhost:8080/"
        },
        "outputId": "f90348fd-82a8-4682-d512-02ed147acc28"
      },
      "execution_count": null,
      "outputs": [
        {
          "output_type": "execute_result",
          "data": {
            "text/plain": [
              "0.20533333333333334"
            ]
          },
          "metadata": {},
          "execution_count": 22
        }
      ]
    },
    {
      "cell_type": "markdown",
      "source": [
        "K-nearest model"
      ],
      "metadata": {
        "id": "pNsHzgDES64X"
      }
    },
    {
      "cell_type": "code",
      "source": [
        "from sklearn.neighbors import KNeighborsClassifier\n",
        "\n",
        "knnc = KNeighborsClassifier(n_neighbors=50)\n",
        "knnc.fit(x_tr_sc,y_train_1)\n",
        "\n",
        "y_pred_knnc = knnc.predict(x_vl_sc)\n",
        "\n",
        "acc_vl = accuracy_score(y_valid_1, y_pred_knnc)\n",
        "acc_vl"
      ],
      "metadata": {
        "id": "gkfcWFa2S8sF",
        "colab": {
          "base_uri": "https://localhost:8080/"
        },
        "outputId": "9e219a48-76d5-4fbb-c617-87110131a508"
      },
      "execution_count": null,
      "outputs": [
        {
          "output_type": "execute_result",
          "data": {
            "text/plain": [
              "0.16666666666666666"
            ]
          },
          "metadata": {},
          "execution_count": 23
        }
      ]
    },
    {
      "cell_type": "markdown",
      "source": [
        "Above results show that the SVM model produces better results for scaling."
      ],
      "metadata": {
        "id": "fGg19IEV5Jpf"
      }
    },
    {
      "cell_type": "markdown",
      "source": [
        "**Label 2**"
      ],
      "metadata": {
        "id": "ZwHXRcgC5UIl"
      }
    },
    {
      "cell_type": "markdown",
      "source": [
        "SVM model"
      ],
      "metadata": {
        "id": "eXVcFJzk5XqA"
      }
    },
    {
      "cell_type": "code",
      "source": [
        "svmc = svm.SVC(kernel=\"linear\")\n",
        "svmc.fit(x_tr_sc_2,y_train_2)\n",
        "\n",
        "y_pred_svmc = svmc.predict(x_vl_sc_2)\n",
        "\n",
        "acc_vl = accuracy_score(y_valid_2, y_pred_svmc)\n",
        "acc_vl"
      ],
      "metadata": {
        "colab": {
          "base_uri": "https://localhost:8080/"
        },
        "id": "qrUWTZI35a5C",
        "outputId": "1f6af926-219a-484e-d2a5-d18c335e815d"
      },
      "execution_count": null,
      "outputs": [
        {
          "output_type": "execute_result",
          "data": {
            "text/plain": [
              "0.14945652173913043"
            ]
          },
          "metadata": {},
          "execution_count": 24
        }
      ]
    },
    {
      "cell_type": "markdown",
      "source": [
        "**Label 3**"
      ],
      "metadata": {
        "id": "cxf8jEr27LxZ"
      }
    },
    {
      "cell_type": "markdown",
      "source": [
        "SVM model"
      ],
      "metadata": {
        "id": "GcFKNM2o7O2H"
      }
    },
    {
      "cell_type": "code",
      "source": [
        "svmc = svm.SVC(kernel=\"linear\")\n",
        "svmc.fit(x_tr_sc,y_train_3)\n",
        "\n",
        "y_pred_svmc = svmc.predict(x_vl_sc)\n",
        "\n",
        "acc_vl = accuracy_score(y_valid_3, y_pred_svmc)\n",
        "acc_vl"
      ],
      "metadata": {
        "colab": {
          "base_uri": "https://localhost:8080/"
        },
        "id": "F5M3E9VV7Q2a",
        "outputId": "539cdac9-ba15-458b-a611-d2fd7527bd0c"
      },
      "execution_count": null,
      "outputs": [
        {
          "output_type": "execute_result",
          "data": {
            "text/plain": [
              "0.8426666666666667"
            ]
          },
          "metadata": {},
          "execution_count": 26
        }
      ]
    },
    {
      "cell_type": "markdown",
      "source": [
        "**Label 4**"
      ],
      "metadata": {
        "id": "y2naPIcU749Y"
      }
    },
    {
      "cell_type": "markdown",
      "source": [
        "SVM model"
      ],
      "metadata": {
        "id": "QrSwgF6O8BlJ"
      }
    },
    {
      "cell_type": "markdown",
      "source": [
        "An additional parameter, *class_weight* with the value *balanced* was used to resolve the issue with the uneven distribution of label values."
      ],
      "metadata": {
        "id": "1ByQH0Lq8lDG"
      }
    },
    {
      "cell_type": "code",
      "source": [
        "svmc = svm.SVC(kernel=\"linear\", class_weight=\"balanced\")\n",
        "svmc.fit(x_tr_sc,y_train_4)\n",
        "\n",
        "y_pred_svmc = svmc.predict(x_vl_sc)\n",
        "\n",
        "acc_vl = accuracy_score(y_valid_4, y_pred_svmc)\n",
        "acc_vl"
      ],
      "metadata": {
        "colab": {
          "base_uri": "https://localhost:8080/"
        },
        "id": "ZlDBkgu38ELU",
        "outputId": "40bd5697-ffc1-4cb9-abb6-d1f0af8ddc78"
      },
      "execution_count": null,
      "outputs": [
        {
          "output_type": "execute_result",
          "data": {
            "text/plain": [
              "0.32666666666666666"
            ]
          },
          "metadata": {},
          "execution_count": 28
        }
      ]
    },
    {
      "cell_type": "markdown",
      "source": [
        "**Feature engineering - with deletion for empty values in label 2**"
      ],
      "metadata": {
        "id": "kxCL2IuGTD3r"
      }
    },
    {
      "cell_type": "code",
      "source": [
        "x_train = train_df.copy()\n",
        "x_train.drop(labels, axis=1, inplace=True)\n",
        "y_train_1 = train_df['label_1']\n",
        "y_train_3 = train_df['label_3']\n",
        "y_train_4 = train_df['label_4']\n",
        "\n",
        "x_train_2 = train_df[train_df['label_2'].notna()]                                              # Dropping NaN values for label 2\n",
        "x_train_2.drop(labels, axis=1, inplace=True)\n",
        "y_train_2 = train_df[train_df['label_2'].notna()]['label_2']\n",
        "\n",
        "x_valid = valid_df.copy()\n",
        "x_valid.drop(labels, axis=1, inplace=True)\n",
        "y_valid_1 = valid_df['label_1']\n",
        "y_valid_3 = valid_df['label_3']\n",
        "y_valid_4 = valid_df['label_4']\n",
        "\n",
        "x_valid_2 = valid_df[valid_df['label_2'].notna()]                                             # Dropping NaN values for label 2\n",
        "x_valid_2.drop(labels, axis=1, inplace=True)\n",
        "y_valid_2 = valid_df[valid_df['label_2'].notna()]['label_2']\n",
        "\n",
        "x_test = test_df.copy()\n",
        "x_test.drop(['ID'], axis=1, inplace=True)"
      ],
      "metadata": {
        "id": "u-danSZmTGN9",
        "colab": {
          "base_uri": "https://localhost:8080/"
        },
        "outputId": "9e3d88c6-ec6b-4f36-dd7c-efdbf57f1eb3"
      },
      "execution_count": null,
      "outputs": [
        {
          "output_type": "stream",
          "name": "stderr",
          "text": [
            "<ipython-input-30-a34243a88c2e>:8: SettingWithCopyWarning: \n",
            "A value is trying to be set on a copy of a slice from a DataFrame\n",
            "\n",
            "See the caveats in the documentation: https://pandas.pydata.org/pandas-docs/stable/user_guide/indexing.html#returning-a-view-versus-a-copy\n",
            "  x_train_2.drop(labels, axis=1, inplace=True)\n",
            "<ipython-input-30-a34243a88c2e>:18: SettingWithCopyWarning: \n",
            "A value is trying to be set on a copy of a slice from a DataFrame\n",
            "\n",
            "See the caveats in the documentation: https://pandas.pydata.org/pandas-docs/stable/user_guide/indexing.html#returning-a-view-versus-a-copy\n",
            "  x_valid_2.drop(labels, axis=1, inplace=True)\n"
          ]
        }
      ]
    },
    {
      "cell_type": "markdown",
      "source": [
        "*Principal Component Analysis* was used for all labels."
      ],
      "metadata": {
        "id": "FzPPwVk__HBf"
      }
    },
    {
      "cell_type": "markdown",
      "source": [
        "**Label 1** - with SVM model"
      ],
      "metadata": {
        "id": "o5QPFZdaSKDN"
      }
    },
    {
      "cell_type": "code",
      "source": [
        "from sklearn.decomposition import PCA\n",
        "\n",
        "new_feature_numbers = []\n",
        "accuracy_values = []\n",
        "\n",
        "n_c = 0.8\n",
        "while(n_c<0.99):\n",
        "  pca = PCA(n_components=n_c, svd_solver='full')\n",
        "  pca.fit(x_train)\n",
        "\n",
        "  x_train_trf = pd.DataFrame(pca.transform(x_train))\n",
        "  x_valid_trf = pd.DataFrame(pca.transform(x_valid))\n",
        "  new_feature_numbers.append(x_train_trf.shape[1])\n",
        "\n",
        "  classifier = svm.SVC(kernel='linear')\n",
        "  classifier.fit(x_train_trf,y_train_1)\n",
        "  y_pred2 = classifier.predict(x_valid_trf)\n",
        "  accuracy_values.append(accuracy_score(y_valid_1,y_pred2))\n",
        "  n_c=n_c+0.02\n",
        "\n",
        "i=0\n",
        "while(i<len(accuracy_values)):\n",
        "  print(\"Accuracy for \"+ str(new_feature_numbers[i])+\" features with \"+str(0.8+0.02*i)+\" n_components value :- \"+str(accuracy_values[i]))\n",
        "  i=i+1"
      ],
      "metadata": {
        "id": "RkaB14KiR8q1",
        "colab": {
          "base_uri": "https://localhost:8080/"
        },
        "outputId": "be557490-be38-4dcb-f3ed-137dd393f919"
      },
      "execution_count": null,
      "outputs": [
        {
          "output_type": "stream",
          "name": "stdout",
          "text": [
            "Accuracy for 9 features with 0.8 n_components value :- 0.08\n",
            "Accuracy for 11 features with 0.8200000000000001 n_components value :- 0.096\n",
            "Accuracy for 14 features with 0.8400000000000001 n_components value :- 0.12266666666666666\n",
            "Accuracy for 18 features with 0.8600000000000001 n_components value :- 0.14666666666666667\n",
            "Accuracy for 24 features with 0.88 n_components value :- 0.15733333333333333\n",
            "Accuracy for 33 features with 0.9 n_components value :- 0.17466666666666666\n",
            "Accuracy for 46 features with 0.92 n_components value :- 0.18533333333333332\n",
            "Accuracy for 68 features with 0.9400000000000001 n_components value :- 0.17333333333333334\n",
            "Accuracy for 110 features with 0.9600000000000001 n_components value :- 0.14933333333333335\n",
            "Accuracy for 203 features with 0.98 n_components value :- 0.16266666666666665\n"
          ]
        }
      ]
    },
    {
      "cell_type": "markdown",
      "source": [
        "Using 0.92 as the *n_components* value;"
      ],
      "metadata": {
        "id": "h1_pUKNMBe8s"
      }
    },
    {
      "cell_type": "code",
      "source": [
        "pca = PCA(n_components=0.92, svd_solver='full')\n",
        "pca.fit(x_train)\n",
        "\n",
        "x_train_trf = pd.DataFrame(pca.transform(x_train))\n",
        "x_test_trf = pd.DataFrame(pca.transform(x_test))\n",
        "\n",
        "classifier = svm.SVC(kernel='linear')\n",
        "classifier.fit(x_train_trf,y_train_1)\n",
        "y_pred = classifier.predict(x_test_trf)\n",
        "pd.DataFrame(y_pred).to_csv(\"l1.csv\")"
      ],
      "metadata": {
        "id": "AxK48lLTEIB5"
      },
      "execution_count": null,
      "outputs": []
    },
    {
      "cell_type": "markdown",
      "source": [
        "**Label 2**"
      ],
      "metadata": {
        "id": "fQlCqnU9SR4a"
      }
    },
    {
      "cell_type": "code",
      "source": [
        "new_feature_numbers = []\n",
        "accuracy_values = []\n",
        "\n",
        "n_c = 0.8\n",
        "while(n_c<0.99):\n",
        "  pca = PCA(n_components=n_c, svd_solver='full')\n",
        "  pca.fit(x_train_2)\n",
        "\n",
        "  x_train_trf = pd.DataFrame(pca.transform(x_train_2))\n",
        "  x_valid_trf = pd.DataFrame(pca.transform(x_valid_2))\n",
        "  new_feature_numbers.append(x_train_trf.shape[1])\n",
        "\n",
        "  classifier = svm.SVC(kernel='linear')\n",
        "  classifier.fit(x_train_trf,y_train_2)\n",
        "  y_pred2 = classifier.predict(x_valid_trf)\n",
        "  accuracy_values.append(accuracy_score(y_valid_2,y_pred2))\n",
        "  n_c=n_c+0.02\n",
        "\n",
        "i=0\n",
        "while(i<len(accuracy_values)):\n",
        "  print(\"Accuracy for \"+ str(new_feature_numbers[i])+\" features with \"+str(0.8+0.02*i)+\" n_components value :- \"+str(accuracy_values[i]))\n",
        "  i=i+1"
      ],
      "metadata": {
        "colab": {
          "base_uri": "https://localhost:8080/"
        },
        "id": "ptWE-1egEvel",
        "outputId": "b2475fdc-3d17-42ee-dcda-003934f006f7"
      },
      "execution_count": null,
      "outputs": [
        {
          "output_type": "stream",
          "name": "stdout",
          "text": [
            "Accuracy for 9 features with 0.8 n_components value :- 0.13451086956521738\n",
            "Accuracy for 11 features with 0.8200000000000001 n_components value :- 0.12364130434782608\n",
            "Accuracy for 14 features with 0.8400000000000001 n_components value :- 0.11413043478260869\n",
            "Accuracy for 18 features with 0.8600000000000001 n_components value :- 0.10869565217391304\n",
            "Accuracy for 24 features with 0.88 n_components value :- 0.11548913043478261\n",
            "Accuracy for 33 features with 0.9 n_components value :- 0.1331521739130435\n",
            "Accuracy for 46 features with 0.92 n_components value :- 0.14402173913043478\n",
            "Accuracy for 68 features with 0.9400000000000001 n_components value :- 0.1358695652173913\n",
            "Accuracy for 109 features with 0.9600000000000001 n_components value :- 0.12092391304347826\n",
            "Accuracy for 202 features with 0.98 n_components value :- 0.11141304347826086\n"
          ]
        }
      ]
    },
    {
      "cell_type": "markdown",
      "source": [
        "Using 0.92 as the n_components value;"
      ],
      "metadata": {
        "id": "oeJcsu4QIx8x"
      }
    },
    {
      "cell_type": "code",
      "source": [
        "pca = PCA(n_components=0.92, svd_solver='full')\n",
        "pca.fit(x_train_2)\n",
        "\n",
        "x_train_trf = pd.DataFrame(pca.transform(x_train_2))\n",
        "x_test_trf = pd.DataFrame(pca.transform(x_test))\n",
        "\n",
        "classifier = svm.SVC(kernel='linear')\n",
        "classifier.fit(x_train_trf,y_train_2)\n",
        "y_pred = classifier.predict(x_test_trf)\n",
        "pd.DataFrame(y_pred).to_csv(\"l2.csv\")"
      ],
      "metadata": {
        "id": "JJ5l4XxQI59s"
      },
      "execution_count": null,
      "outputs": []
    },
    {
      "cell_type": "markdown",
      "source": [
        "**Label 3**"
      ],
      "metadata": {
        "id": "E3u1VHoPSV1X"
      }
    },
    {
      "cell_type": "code",
      "source": [
        "from sklearn.decomposition import PCA\n",
        "\n",
        "new_feature_numbers = []\n",
        "accuracy_values = []\n",
        "\n",
        "n_c = 0.8\n",
        "while(n_c<0.99):\n",
        "  pca = PCA(n_components=n_c, svd_solver='full')\n",
        "  pca.fit(x_train)\n",
        "\n",
        "  x_train_trf = pd.DataFrame(pca.transform(x_train))\n",
        "  x_valid_trf = pd.DataFrame(pca.transform(x_valid))\n",
        "  new_feature_numbers.append(x_train_trf.shape[1])\n",
        "\n",
        "  classifier = svm.SVC(kernel='linear')\n",
        "  classifier.fit(x_train_trf,y_train_3)\n",
        "  y_pred2 = classifier.predict(x_valid_trf)\n",
        "  accuracy_values.append(accuracy_score(y_valid_3,y_pred2))\n",
        "  n_c=n_c+0.02\n",
        "\n",
        "i=0\n",
        "while(i<len(accuracy_values)):\n",
        "  print(\"Accuracy for \"+ str(new_feature_numbers[i])+\" features with \"+str(0.8+0.02*i)+\" n_components value :- \"+str(accuracy_values[i]))\n",
        "  i=i+1"
      ],
      "metadata": {
        "id": "O7gcSBr7SYb7",
        "colab": {
          "base_uri": "https://localhost:8080/"
        },
        "outputId": "d62e95bf-950b-4d16-eefc-0097fd127dab"
      },
      "execution_count": null,
      "outputs": [
        {
          "output_type": "stream",
          "name": "stdout",
          "text": [
            "Accuracy for 9 features with 0.8 n_components value :- 0.7173333333333334\n",
            "Accuracy for 11 features with 0.8200000000000001 n_components value :- 0.6346666666666667\n",
            "Accuracy for 14 features with 0.8400000000000001 n_components value :- 0.45466666666666666\n",
            "Accuracy for 18 features with 0.8600000000000001 n_components value :- 0.6706666666666666\n",
            "Accuracy for 24 features with 0.88 n_components value :- 0.48533333333333334\n",
            "Accuracy for 33 features with 0.9 n_components value :- 0.536\n",
            "Accuracy for 46 features with 0.92 n_components value :- 0.6413333333333333\n",
            "Accuracy for 68 features with 0.9400000000000001 n_components value :- 0.844\n",
            "Accuracy for 110 features with 0.9600000000000001 n_components value :- 0.8906666666666667\n",
            "Accuracy for 203 features with 0.98 n_components value :- 0.8213333333333334\n"
          ]
        }
      ]
    },
    {
      "cell_type": "markdown",
      "source": [
        "Using 0.96 as the n_components value;"
      ],
      "metadata": {
        "id": "5cctITMVKsP2"
      }
    },
    {
      "cell_type": "code",
      "source": [
        "pca = PCA(n_components=0.96, svd_solver='full')\n",
        "pca.fit(x_train)\n",
        "\n",
        "x_train_trf = pd.DataFrame(pca.transform(x_train))\n",
        "x_test_trf = pd.DataFrame(pca.transform(x_test))\n",
        "\n",
        "classifier = svm.SVC(kernel='linear')\n",
        "classifier.fit(x_train_trf,y_train_3)\n",
        "y_pred = classifier.predict(x_test_trf)\n",
        "pd.DataFrame(y_pred).to_csv(\"l3.csv\")"
      ],
      "metadata": {
        "id": "M4Csl8rMK0TH"
      },
      "execution_count": null,
      "outputs": []
    },
    {
      "cell_type": "markdown",
      "source": [
        "**Label 4**"
      ],
      "metadata": {
        "id": "LpHuxVi9SZCC"
      }
    },
    {
      "cell_type": "markdown",
      "source": [
        "An additional parameter, *class_weight* with the value *balanced* was used to resolve the issue with the uneven distribution of label values for SVM model."
      ],
      "metadata": {
        "id": "W2-JR7LALZon"
      }
    },
    {
      "cell_type": "code",
      "source": [
        "new_feature_numbers = []\n",
        "accuracy_values = []\n",
        "\n",
        "n_c = 0.8\n",
        "while(n_c<0.99):\n",
        "  pca = PCA(n_components=n_c, svd_solver='full')\n",
        "  pca.fit(x_train)\n",
        "\n",
        "  x_train_trf = pd.DataFrame(pca.transform(x_train))\n",
        "  x_valid_trf = pd.DataFrame(pca.transform(x_valid))\n",
        "  new_feature_numbers.append(x_train_trf.shape[1])\n",
        "\n",
        "  classifier = svm.SVC(kernel='linear', class_weight=\"balanced\")\n",
        "  classifier.fit(x_train_trf,y_train_4)\n",
        "  y_pred2 = classifier.predict(x_valid_trf)\n",
        "  accuracy_values.append(accuracy_score(y_valid_4,y_pred2))\n",
        "  n_c=n_c+0.02\n",
        "\n",
        "i=0\n",
        "while(i<len(accuracy_values)):\n",
        "  print(\"Accuracy for \"+ str(new_feature_numbers[i])+\" features with \"+str(0.8+0.02*i)+\" n_components value :- \"+str(accuracy_values[i]))\n",
        "  i=i+1"
      ],
      "metadata": {
        "id": "PzxI4p64Sbhp",
        "colab": {
          "base_uri": "https://localhost:8080/"
        },
        "outputId": "46b7b2f9-9478-4725-b259-cf38da39bea0"
      },
      "execution_count": null,
      "outputs": [
        {
          "output_type": "stream",
          "name": "stdout",
          "text": [
            "Accuracy for 9 features with 0.8 n_components value :- 0.06533333333333333\n",
            "Accuracy for 11 features with 0.8200000000000001 n_components value :- 0.06133333333333333\n",
            "Accuracy for 14 features with 0.8400000000000001 n_components value :- 0.076\n",
            "Accuracy for 18 features with 0.8600000000000001 n_components value :- 0.06666666666666667\n",
            "Accuracy for 24 features with 0.88 n_components value :- 0.06933333333333333\n",
            "Accuracy for 33 features with 0.9 n_components value :- 0.088\n",
            "Accuracy for 46 features with 0.92 n_components value :- 0.09333333333333334\n",
            "Accuracy for 68 features with 0.9400000000000001 n_components value :- 0.084\n",
            "Accuracy for 110 features with 0.9600000000000001 n_components value :- 0.076\n",
            "Accuracy for 203 features with 0.98 n_components value :- 0.06266666666666666\n"
          ]
        }
      ]
    },
    {
      "cell_type": "markdown",
      "source": [
        "Using 0.92 as the n_components value;"
      ],
      "metadata": {
        "id": "zrSXE_SLTVSX"
      }
    },
    {
      "cell_type": "code",
      "source": [
        "pca = PCA(n_components=0.92, svd_solver='full')\n",
        "pca.fit(x_train)\n",
        "\n",
        "x_train_trf = pd.DataFrame(pca.transform(x_train))\n",
        "x_test_trf = pd.DataFrame(pca.transform(x_test))\n",
        "\n",
        "classifier = svm.SVC(kernel='linear')\n",
        "classifier.fit(x_train_trf,y_train_4)\n",
        "y_pred = classifier.predict(x_test_trf)\n",
        "pd.DataFrame(y_pred).to_csv(\"l4.csv\")"
      ],
      "metadata": {
        "id": "XCUctgqtTauS"
      },
      "execution_count": null,
      "outputs": []
    }
  ]
}